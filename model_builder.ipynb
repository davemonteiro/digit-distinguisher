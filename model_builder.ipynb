{
 "metadata": {
  "language_info": {
   "codemirror_mode": {
    "name": "ipython",
    "version": 3
   },
   "file_extension": ".py",
   "mimetype": "text/x-python",
   "name": "python",
   "nbconvert_exporter": "python",
   "pygments_lexer": "ipython3",
   "version": "3.8.5-final"
  },
  "orig_nbformat": 2,
  "kernelspec": {
   "name": "python3",
   "display_name": "Python 3.8.5 64-bit ('mnist-streamlit-docker': conda)",
   "metadata": {
    "interpreter": {
     "hash": "d8cba136ea3eaf14761893840245e95da77cf1787f321fb2e9550ae35e19a034"
    }
   }
  }
 },
 "nbformat": 4,
 "nbformat_minor": 2,
 "cells": [
  {
   "cell_type": "code",
   "execution_count": 1,
   "metadata": {},
   "outputs": [],
   "source": [
    "import numpy as np\n",
    "import tensorflow as tf\n",
    "\n",
    "import warnings\n",
    "warnings.filterwarnings('ignore')"
   ]
  },
  {
   "cell_type": "code",
   "execution_count": 3,
   "metadata": {},
   "outputs": [],
   "source": [
    "# Load train and test data\n",
    "(X_train, y_train), (X_test, y_test) = tf.keras.datasets.mnist.load_data()"
   ]
  },
  {
   "cell_type": "code",
   "execution_count": 4,
   "metadata": {},
   "outputs": [],
   "source": [
    "# Rescale pixel values to [0, 1]\n",
    "X_train = X_train.astype('float32') / 255\n",
    "X_test = X_test.astype('float32') / 255\n",
    "\n",
    "# Ensure inputs have correct shape\n",
    "X_train = np.expand_dims(X_train, -1)\n",
    "X_test = np.expand_dims(X_test, -1)"
   ]
  },
  {
   "cell_type": "code",
   "execution_count": 7,
   "metadata": {},
   "outputs": [],
   "source": [
    "# Convert classes to binary class matrices\n",
    "# e.g. 5 = [0, 0, 0, 0, 0, 1, 0, 0, 0, 0]\n",
    "y_train = tf.keras.utils.to_categorical(y_train, 10)\n",
    "y_test = tf.keras.utils.to_categorical(y_test, 10)"
   ]
  },
  {
   "cell_type": "code",
   "execution_count": 10,
   "metadata": {},
   "outputs": [
    {
     "output_type": "stream",
     "name": "stdout",
     "text": [
      "Model: \"sequential_2\"\n_________________________________________________________________\nLayer (type)                 Output Shape              Param #   \n=================================================================\nconv2d (Conv2D)              (None, 26, 26, 32)        320       \n_________________________________________________________________\nmax_pooling2d (MaxPooling2D) (None, 13, 13, 32)        0         \n_________________________________________________________________\nconv2d_1 (Conv2D)            (None, 11, 11, 64)        18496     \n_________________________________________________________________\nmax_pooling2d_1 (MaxPooling2 (None, 5, 5, 64)          0         \n_________________________________________________________________\nflatten (Flatten)            (None, 1600)              0         \n_________________________________________________________________\ndropout (Dropout)            (None, 1600)              0         \n_________________________________________________________________\ndense (Dense)                (None, 50)                80050     \n_________________________________________________________________\ndense_1 (Dense)              (None, 10)                510       \n=================================================================\nTotal params: 99,376\nTrainable params: 99,376\nNon-trainable params: 0\n_________________________________________________________________\n"
     ]
    }
   ],
   "source": [
    "# Model building\n",
    "model = tf.keras.Sequential()\n",
    "model.add(tf.keras.layers.Conv2D(32, kernel_size=(3, 3), \n",
    "          activation='relu',\n",
    "          input_shape=(28, 28, 1)))\n",
    "model.add(tf.keras.layers.MaxPooling2D(pool_size=(2, 2)))\n",
    "model.add(tf.keras.layers.Conv2D(64, kernel_size=(3, 3), \n",
    "          activation='relu')),\n",
    "model.add(tf.keras.layers.MaxPooling2D(pool_size=(2, 2)))\n",
    "model.add(tf.keras.layers.Flatten())\n",
    "model.add(tf.keras.layers.Dropout(0.5))\n",
    "model.add(tf.keras.layers.Dense(50, activation = 'relu'))\n",
    "model.add(tf.keras.layers.Dense(10, activation = 'softmax'))\n",
    "\n",
    "model.summary()"
   ]
  },
  {
   "cell_type": "code",
   "execution_count": 11,
   "metadata": {},
   "outputs": [
    {
     "output_type": "stream",
     "name": "stdout",
     "text": [
      "Epoch 1/10\n",
      "375/375 [==============================] - 22s 59ms/step - loss: 0.3367 - accuracy: 0.8979 - val_loss: 0.0911 - val_accuracy: 0.9749\n",
      "Epoch 2/10\n",
      "375/375 [==============================] - 23s 62ms/step - loss: 0.0974 - accuracy: 0.9702 - val_loss: 0.0633 - val_accuracy: 0.9819\n",
      "Epoch 3/10\n",
      "375/375 [==============================] - 21s 56ms/step - loss: 0.0756 - accuracy: 0.9761 - val_loss: 0.0515 - val_accuracy: 0.9851\n",
      "Epoch 4/10\n",
      "375/375 [==============================] - 20s 53ms/step - loss: 0.0611 - accuracy: 0.9811 - val_loss: 0.0420 - val_accuracy: 0.9873\n",
      "Epoch 5/10\n",
      "375/375 [==============================] - 19s 51ms/step - loss: 0.0512 - accuracy: 0.9840 - val_loss: 0.0368 - val_accuracy: 0.9893\n",
      "Epoch 6/10\n",
      "375/375 [==============================] - 19s 51ms/step - loss: 0.0465 - accuracy: 0.9854 - val_loss: 0.0354 - val_accuracy: 0.9903\n",
      "Epoch 7/10\n",
      "375/375 [==============================] - 19s 51ms/step - loss: 0.0426 - accuracy: 0.9864 - val_loss: 0.0334 - val_accuracy: 0.9906\n",
      "Epoch 8/10\n",
      "375/375 [==============================] - 21s 56ms/step - loss: 0.0378 - accuracy: 0.9881 - val_loss: 0.0323 - val_accuracy: 0.9908\n",
      "Epoch 9/10\n",
      "375/375 [==============================] - 19s 51ms/step - loss: 0.0356 - accuracy: 0.9884 - val_loss: 0.0397 - val_accuracy: 0.9884\n",
      "Epoch 10/10\n",
      "375/375 [==============================] - 19s 51ms/step - loss: 0.0307 - accuracy: 0.9903 - val_loss: 0.0318 - val_accuracy: 0.9909\n"
     ]
    },
    {
     "output_type": "execute_result",
     "data": {
      "text/plain": [
       "<tensorflow.python.keras.callbacks.History at 0x15aee8d08e0>"
      ]
     },
     "metadata": {},
     "execution_count": 11
    }
   ],
   "source": [
    "# Model training\n",
    "model.compile(optimizer = 'adam',\n",
    "              loss = 'categorical_crossentropy',\n",
    "              metrics = ['accuracy'])\n",
    "              \n",
    "model.fit(X_train, y_train, batch_size=128, epochs=10, validation_split=0.2)"
   ]
  },
  {
   "cell_type": "code",
   "execution_count": 12,
   "metadata": {},
   "outputs": [
    {
     "output_type": "stream",
     "name": "stdout",
     "text": [
      "313/313 [==============================] - 1s 4ms/step - loss: 0.0246 - accuracy: 0.9919\n",
      "Loss: 0.024555588141083717\n",
      "Accuracy: 0.9919000267982483\n"
     ]
    }
   ],
   "source": [
    "# Model evaluation\n",
    "results = model.evaluate(X_test, y_test)\n",
    "print('Loss:', results[0])\n",
    "print('Accuracy:', results[1])"
   ]
  },
  {
   "cell_type": "code",
   "execution_count": 13,
   "metadata": {},
   "outputs": [
    {
     "output_type": "stream",
     "name": "stdout",
     "text": [
      "WARNING:tensorflow:From C:\\Users\\davem\\Miniconda3\\envs\\mnist-streamlit-docker\\lib\\site-packages\\tensorflow\\python\\training\\tracking\\tracking.py:111: Model.state_updates (from tensorflow.python.keras.engine.training) is deprecated and will be removed in a future version.\n",
      "Instructions for updating:\n",
      "This property should not be used in TensorFlow 2.0, as updates are applied automatically.\n",
      "WARNING:tensorflow:From C:\\Users\\davem\\Miniconda3\\envs\\mnist-streamlit-docker\\lib\\site-packages\\tensorflow\\python\\training\\tracking\\tracking.py:111: Layer.updates (from tensorflow.python.keras.engine.base_layer) is deprecated and will be removed in a future version.\n",
      "Instructions for updating:\n",
      "This property should not be used in TensorFlow 2.0, as updates are applied automatically.\n",
      "INFO:tensorflow:Assets written to: model\\assets\n"
     ]
    }
   ],
   "source": [
    "model.save('model')"
   ]
  }
 ]
}